{
 "cells": [
  {
   "cell_type": "code",
   "execution_count": 21,
   "id": "f9c9f7af-caf7-43d0-b4f5-f5c3f8b0805f",
   "metadata": {},
   "outputs": [
    {
     "name": "stdout",
     "output_type": "stream",
     "text": [
      "<class 'int'>\n",
      "7\n",
      "<class 'str'>\n",
      "namenamename\n",
      "9\n",
      "<class 'bool'>\n",
      "name\n",
      "\n",
      "<class 'str'>\n",
      "1\n",
      "<class 'int'>\n"
     ]
    }
   ],
   "source": [
    "print(type(5))\n",
    "print(3+4)\n",
    "#print(\"name\"-\"surname\")\n",
    "print(type(\"name\"))\n",
    "print(\"name\"*3)\n",
    "print(3**2)\n",
    "#print(\"name\"*3.5)\n",
    "print(type(True))\n",
    "print(\"name\"*True)\n",
    "print(\"name\"*False)\n",
    "print(type(\"name\"*False))\n",
    "print(5//3) #целая часть\n",
    "print(type(5//3))"
   ]
  },
  {
   "cell_type": "code",
   "execution_count": null,
   "id": "98dcc6db-156e-444f-adc6-d0e47d57998e",
   "metadata": {},
   "outputs": [],
   "source": []
  }
 ],
 "metadata": {
  "kernelspec": {
   "display_name": "Python 3 (ipykernel)",
   "language": "python",
   "name": "python3"
  },
  "language_info": {
   "codemirror_mode": {
    "name": "ipython",
    "version": 3
   },
   "file_extension": ".py",
   "mimetype": "text/x-python",
   "name": "python",
   "nbconvert_exporter": "python",
   "pygments_lexer": "ipython3",
   "version": "3.10.11"
  }
 },
 "nbformat": 4,
 "nbformat_minor": 5
}
