{
 "cells": [
  {
   "cell_type": "code",
   "execution_count": 18,
   "id": "bf53a84a-584f-43c0-8dc0-1d1cddf97b20",
   "metadata": {},
   "outputs": [
    {
     "name": "stdin",
     "output_type": "stream",
     "text": [
      "введите температуру в цельсии 5\n"
     ]
    },
    {
     "name": "stdout",
     "output_type": "stream",
     "text": [
      "температура в Фаренгейтах: 41.0\n"
     ]
    },
    {
     "name": "stdin",
     "output_type": "stream",
     "text": [
      "введите температуру в Фаренгейтах 5\n"
     ]
    },
    {
     "name": "stdout",
     "output_type": "stream",
     "text": [
      "температура в цельсии: -15.0\n"
     ]
    }
   ],
   "source": [
    "C = float(input(\"введите температуру в цельсии\"))\n",
    "F = (C*(9/5)) + 32\n",
    "print(\"температура в Фаренгейтах:\", F)\n",
    "F = float(input(\"введите температуру в Фаренгейтах\"))\n",
    "C = (F-32)*5/9\n",
    "print(\"температура в цельсии:\", C)"
   ]
  },
  {
   "cell_type": "code",
   "execution_count": 19,
   "id": "881bb7a6-33ac-422c-afcd-2fe1ec72f6e1",
   "metadata": {},
   "outputs": [
    {
     "name": "stdin",
     "output_type": "stream",
     "text": [
      "введите стоимость велосипеда 52000\n"
     ]
    },
    {
     "name": "stdout",
     "output_type": "stream",
     "text": [
      "стоимость налога: 5200.0\n"
     ]
    }
   ],
   "source": [
    "a = float(input(\"введите стоимость велосипеда\"))\n",
    "if a > 100000:\n",
    "     print(\"стоимость налога:\", a*0.15)\n",
    "if a > 50000 and a <= 100000:\n",
    "     print(\"стоимость налога:\", a*0.1)\n",
    "if a <= 50000:\n",
    "      print(\"стоимость налога:\", a*0.05)"
   ]
  },
  {
   "cell_type": "code",
   "execution_count": 44,
   "id": "540790ef-2b06-46a9-8dc6-e3e15bce2a19",
   "metadata": {},
   "outputs": [
    {
     "name": "stdin",
     "output_type": "stream",
     "text": [
      "введите x: 13\n",
      "введите y: 12\n",
      "введите z: 2009\n"
     ]
    },
    {
     "name": "stdout",
     "output_type": "stream",
     "text": [
      "1\n"
     ]
    }
   ],
   "source": [
    "x = int(input(\"введите x:\"))\n",
    "y = int(input(\"введите y:\"))\n",
    "z = int(input(\"введите z:\"))\n",
    "if x <= 12 and y <= 12 and x != y:\n",
    "    print(0)\n",
    "else: \n",
    "    print(1)"
   ]
  }
 ],
 "metadata": {
  "kernelspec": {
   "display_name": "Python 3 (ipykernel)",
   "language": "python",
   "name": "python3"
  },
  "language_info": {
   "codemirror_mode": {
    "name": "ipython",
    "version": 3
   },
   "file_extension": ".py",
   "mimetype": "text/x-python",
   "name": "python",
   "nbconvert_exporter": "python",
   "pygments_lexer": "ipython3",
   "version": "3.10.11"
  }
 },
 "nbformat": 4,
 "nbformat_minor": 5
}
