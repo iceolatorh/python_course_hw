{
 "cells": [
  {
   "cell_type": "code",
   "execution_count": 3,
   "id": "bf53a84a-584f-43c0-8dc0-1d1cddf97b20",
   "metadata": {},
   "outputs": [
    {
     "name": "stdout",
     "output_type": "stream",
     "text": [
      "35.6\n",
      "-17.77777777777778\n"
     ]
    }
   ],
   "source": [
    "C = 2\n",
    "F = (C*9/5) + 32\n",
    "print(F)\n",
    "F = 0\n",
    "C = (F-32)*5/9\n",
    "print(C)"
   ]
  },
  {
   "cell_type": "code",
   "execution_count": null,
   "id": "881bb7a6-33ac-422c-afcd-2fe1ec72f6e1",
   "metadata": {},
   "outputs": [],
   "source": []
  }
 ],
 "metadata": {
  "kernelspec": {
   "display_name": "Python 3 (ipykernel)",
   "language": "python",
   "name": "python3"
  },
  "language_info": {
   "codemirror_mode": {
    "name": "ipython",
    "version": 3
   },
   "file_extension": ".py",
   "mimetype": "text/x-python",
   "name": "python",
   "nbconvert_exporter": "python",
   "pygments_lexer": "ipython3",
   "version": "3.10.11"
  }
 },
 "nbformat": 4,
 "nbformat_minor": 5
}
