{
 "cells": [
  {
   "cell_type": "markdown",
   "id": "1d9be2c6-d427-46c8-88ac-90476c616720",
   "metadata": {},
   "source": [
    "https://leetcode.com/problems/defanging-an-ip-address/\n",
    "Given a valid (IPv4) IP address, return a defanged version of that IP address.\r\n",
    "\r\n",
    "A defanged IP address replaces every period \".\" with \"[.]\".\r\n",
    "\r\n",
    " \r\n",
    "\r\n",
    "Example 1:\r\n",
    "\r\n",
    "Input: address = \"1.1.1.1\"\r\n",
    "Output: \"1[.]1[.]1[.]1\"\r\n",
    "Example 2:\r\n",
    "\r\n",
    "Input: address = \"255.100.50.0\"\r\n",
    "Output: \"255[.]100[.]50[.]0\""
   ]
  },
  {
   "cell_type": "code",
   "execution_count": 50,
   "id": "69408c1f-e987-4563-9a2c-72f93080d778",
   "metadata": {},
   "outputs": [
    {
     "name": "stdin",
     "output_type": "stream",
     "text": [
      " 1.2.3.4\n"
     ]
    },
    {
     "name": "stdout",
     "output_type": "stream",
     "text": [
      "1[.]2[.]3[.]4"
     ]
    }
   ],
   "source": [
    "address = list(input())\n",
    "for i in range(len(address)):\n",
    "    if address[i] == '.':\n",
    "        address[i] = '[.]'\n",
    "for i in range(len(address)):\n",
    "    print(address[i], end = \"\")"
   ]
  },
  {
   "cell_type": "code",
   "execution_count": 42,
   "id": "64aa7ca0-9a0e-434b-aa0c-ef17ebada30e",
   "metadata": {},
   "outputs": [
    {
     "name": "stdin",
     "output_type": "stream",
     "text": [
      " 255.100.50.0\n"
     ]
    },
    {
     "name": "stdout",
     "output_type": "stream",
     "text": [
      "255[.]100[.]50[.]0\n"
     ]
    }
   ],
   "source": [
    "address = str(input())\n",
    "s = address.split(\".\")\n",
    "print(\"[.]\".join(s))"
   ]
  },
  {
   "cell_type": "markdown",
   "id": "56b55744-8309-4b3c-a792-6a58a2954453",
   "metadata": {},
   "source": [
    "https://leetcode.com/problems/final-value-of-variable-after-performing-operations/"
   ]
  },
  {
   "cell_type": "code",
   "execution_count": 80,
   "id": "89a7e487-70bd-411d-8af7-20fa2c12a235",
   "metadata": {},
   "outputs": [
    {
     "name": "stdout",
     "output_type": "stream",
     "text": [
      "1\n"
     ]
    }
   ],
   "source": [
    "operations = [\"--X\",\"X++\",\"X++\"]\n",
    "\n",
    "sum = 0\n",
    "for i in range(len(operations)):\n",
    "    if operations[i] == \"++X\" or operations[i] == \"X++\":\n",
    "        sum = sum + 1\n",
    "    elif operations[i] == \"--X\" or operations[i] == \"X--\":\n",
    "        sum = sum - 1\n",
    "print(sum)"
   ]
  },
  {
   "cell_type": "markdown",
   "id": "9902a1e1-9d3d-46c3-820c-da646f92b1ab",
   "metadata": {},
   "source": [
    "https://leetcode.com/problems/maximum-number-of-words-found-in-sentences/"
   ]
  },
  {
   "cell_type": "code",
   "execution_count": 127,
   "id": "219644f1-7e44-4498-93dd-194861bbe66f",
   "metadata": {},
   "outputs": [
    {
     "data": {
      "text/plain": [
       "6"
      ]
     },
     "execution_count": 127,
     "metadata": {},
     "output_type": "execute_result"
    }
   ],
   "source": [
    "sentences = [\"alice and bob love leetcode\", \"i think so too\", \"this is great thanks very much\"]\n",
    "max([sentences[i].count(\" \")+1 for i in range(len(sentences))])"
   ]
  },
  {
   "cell_type": "code",
   "execution_count": 134,
   "id": "ec881522-4d72-43f9-ad17-a14970d912b6",
   "metadata": {},
   "outputs": [
    {
     "name": "stdout",
     "output_type": "stream",
     "text": [
      "6\n"
     ]
    }
   ],
   "source": [
    "sentences = [\"alice and bob love leetcode\", \"i think so too\", \"this is great thanks very much\"]\n",
    "b = []\n",
    "for i in range(len(sentences)):\n",
    "    t = (sentences[i].count(\" \")+1)\n",
    "    b.append(t)\n",
    "print(max(b))"
   ]
  },
  {
   "cell_type": "markdown",
   "id": "995aeddf-55cb-47df-b197-d83c2e35125f",
   "metadata": {},
   "source": [
    "https://leetcode.com/problems/jewels-and-stones/description/"
   ]
  },
  {
   "cell_type": "code",
   "execution_count": 168,
   "id": "3013e223-75bf-42d2-9f0a-3844a3fec322",
   "metadata": {},
   "outputs": [
    {
     "name": "stdin",
     "output_type": "stream",
     "text": [
      " Aa\n",
      " aAAbbbb\n"
     ]
    },
    {
     "name": "stdout",
     "output_type": "stream",
     "text": [
      "3\n"
     ]
    }
   ],
   "source": [
    "jewels = str(input())\n",
    "stones = str(input())\n",
    "sum = 0\n",
    "for i in range(len(jewels)):\n",
    "    for j in range(len(stones)):\n",
    "        if jewels[i] == stones[j]:\n",
    "            sum = sum + 1\n",
    "print(sum)"
   ]
  },
  {
   "cell_type": "markdown",
   "id": "3e655d2f-815c-4d51-93ba-61d1551c794c",
   "metadata": {},
   "source": [
    "https://leetcode.com/problems/truncate-sentence/description/"
   ]
  },
  {
   "cell_type": "code",
   "execution_count": 176,
   "id": "8dc73c94-5813-444b-8c27-d96daf93921d",
   "metadata": {},
   "outputs": [
    {
     "name": "stdin",
     "output_type": "stream",
     "text": [
      " What is the solution to this problem\n",
      " 4\n"
     ]
    },
    {
     "name": "stdout",
     "output_type": "stream",
     "text": [
      "What is the solution "
     ]
    }
   ],
   "source": [
    "s = str(input())\n",
    "k = int(input())\n",
    "s = s.split(\" \")\n",
    "for i in range(k):\n",
    "    print(s[i], end = \" \")"
   ]
  },
  {
   "cell_type": "markdown",
   "id": "01dd088a-9b00-41f6-a59b-440726a7f103",
   "metadata": {},
   "source": [
    "https://leetcode.com/problems/percentage-of-letter-in-string/description/"
   ]
  },
  {
   "cell_type": "code",
   "execution_count": 186,
   "id": "e56f2389-cee2-4980-9d80-8e5cd5b91e50",
   "metadata": {},
   "outputs": [
    {
     "name": "stdin",
     "output_type": "stream",
     "text": [
      " foobar\n",
      " o\n"
     ]
    },
    {
     "data": {
      "text/plain": [
       "33"
      ]
     },
     "execution_count": 186,
     "metadata": {},
     "output_type": "execute_result"
    }
   ],
   "source": [
    "s = str(input())\n",
    "letter = str(input())\n",
    "round(s.count(letter)/len(s)*100)"
   ]
  },
  {
   "cell_type": "markdown",
   "id": "43888807-1680-48a3-8a59-685f34070514",
   "metadata": {},
   "source": [
    "https://leetcode.com/problems/maximum-number-of-words-you-can-type/"
   ]
  },
  {
   "cell_type": "code",
   "execution_count": 216,
   "id": "69ed439c-0a75-472d-a2ba-caa9a8e2cf51",
   "metadata": {},
   "outputs": [
    {
     "name": "stdin",
     "output_type": "stream",
     "text": [
      " leet\n",
      " e\n"
     ]
    },
    {
     "name": "stdout",
     "output_type": "stream",
     "text": [
      "0\n"
     ]
    }
   ],
   "source": [
    "text = str(input())\n",
    "BreakedLetters = str(input())\n",
    "t = text.split(\" \")\n",
    "sum = len(t)\n",
    "\n",
    "for word in t:\n",
    "    for letter in BreakedLetters:\n",
    "        for k in word:\n",
    "            if letter == k:\n",
    "                sum = sum - 1\n",
    "                break\n",
    "        if k == letter:\n",
    "            break\n",
    "        \n",
    "print(sum)"
   ]
  },
  {
   "cell_type": "code",
   "execution_count": 218,
   "id": "46cb42a7-135e-47c2-b6a1-5d18c55d7e5a",
   "metadata": {},
   "outputs": [
    {
     "name": "stdin",
     "output_type": "stream",
     "text": [
      " leet code\n",
      " lt\n"
     ]
    },
    {
     "name": "stdout",
     "output_type": "stream",
     "text": [
      "1\n"
     ]
    }
   ],
   "source": [
    "text = str(input())\n",
    "BreakedLetters = str(input())\n",
    "t = text.split(\" \")\n",
    "sum = len(t)\n",
    "\n",
    "for word in t:\n",
    "    for letter in BreakedLetters:\n",
    "        if letter in word:\n",
    "            sum -= 1\n",
    "            break\n",
    "print(sum)"
   ]
  }
 ],
 "metadata": {
  "kernelspec": {
   "display_name": "Python 3 (ipykernel)",
   "language": "python",
   "name": "python3"
  },
  "language_info": {
   "codemirror_mode": {
    "name": "ipython",
    "version": 3
   },
   "file_extension": ".py",
   "mimetype": "text/x-python",
   "name": "python",
   "nbconvert_exporter": "python",
   "pygments_lexer": "ipython3",
   "version": "3.10.11"
  }
 },
 "nbformat": 4,
 "nbformat_minor": 5
}
