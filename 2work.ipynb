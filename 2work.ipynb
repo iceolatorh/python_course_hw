{
 "cells": [
  {
   "cell_type": "code",
   "execution_count": 11,
   "id": "da794763-c660-43db-ae04-e8f521804b87",
   "metadata": {},
   "outputs": [
    {
     "name": "stdout",
     "output_type": "stream",
     "text": [
      "-24\n",
      "решений нет\n"
     ]
    }
   ],
   "source": [
    "#a*x**2+b*x+c\n",
    "#a = 1\n",
    "#b = 4\n",
    "#c = 4\n",
    "a, b, c = 1, 4, 10\n",
    "D = b**2-4*a*c\n",
    "print(D)\n",
    "\n",
    "if D<0:\n",
    "    print(\"решений нет\")\n",
    "elif D==0:\n",
    "    x = (-b+D**0.5)/2*a\n",
    "    print(\"два одинаковых корня:\", x)\n",
    "else:\n",
    "    x1 = (-b+D**0.5)/2*a\n",
    "    x2 = (-b-D**0.5)/2*a\n",
    "    print(x1)\n",
    "    print(x2)"
   ]
  },
  {
   "cell_type": "code",
   "execution_count": 9,
   "id": "2795a5c0-ffa5-47b9-9cee-b0356f0922f4",
   "metadata": {},
   "outputs": [
    {
     "name": "stdout",
     "output_type": "stream",
     "text": [
      "False\n",
      "True\n"
     ]
    }
   ],
   "source": [
    "print(5==6)\n",
    "print(5<6)"
   ]
  },
  {
   "cell_type": "code",
   "execution_count": 14,
   "id": "38ffafeb-f8e8-4586-99f5-6b6990eb9f6e",
   "metadata": {},
   "outputs": [
    {
     "name": "stdout",
     "output_type": "stream",
     "text": [
      "200 is greater than 33\n"
     ]
    }
   ],
   "source": [
    "a, b = 33, 200\n",
    "\n",
    "# a = 33\n",
    "# b = 200\n",
    "\n",
    "if b > a:\n",
    "    print(f\"{b} is greater than {a}\")"
   ]
  },
  {
   "cell_type": "code",
   "execution_count": null,
   "id": "fc04f5fc-4cb8-4420-ae4e-db660e38541d",
   "metadata": {},
   "outputs": [],
   "source": []
  }
 ],
 "metadata": {
  "kernelspec": {
   "display_name": "Python 3 (ipykernel)",
   "language": "python",
   "name": "python3"
  },
  "language_info": {
   "codemirror_mode": {
    "name": "ipython",
    "version": 3
   },
   "file_extension": ".py",
   "mimetype": "text/x-python",
   "name": "python",
   "nbconvert_exporter": "python",
   "pygments_lexer": "ipython3",
   "version": "3.10.11"
  }
 },
 "nbformat": 4,
 "nbformat_minor": 5
}
