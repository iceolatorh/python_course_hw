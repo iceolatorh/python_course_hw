{
 "cells": [
  {
   "cell_type": "code",
   "execution_count": 33,
   "id": "0a43dd52-c48b-4d4c-889d-9435e4e77552",
   "metadata": {},
   "outputs": [
    {
     "name": "stdin",
     "output_type": "stream",
     "text": [
      " UUDD\n"
     ]
    },
    {
     "name": "stdout",
     "output_type": "stream",
     "text": [
      "true\n"
     ]
    }
   ],
   "source": [
    "moves = input()\n",
    "i = 0\n",
    "U = 0\n",
    "D = 0\n",
    "R = 0\n",
    "L = 0\n",
    "while i < len(moves):\n",
    "    if moves[i] == \"U\":\n",
    "        i+=1\n",
    "        U+=1\n",
    "    else: \n",
    "        i+=1\n",
    "i = 0\n",
    "while i < len(moves):\n",
    "    if moves[i] == \"D\":\n",
    "        i+=1\n",
    "        D+=1\n",
    "    else:\n",
    "        i+=1\n",
    "i = 0\n",
    "while i < len(moves):\n",
    "    if moves[i] == \"R\":\n",
    "        i+=1\n",
    "        R+=1\n",
    "    else:\n",
    "        i +=1\n",
    "i = 0 \n",
    "while i < len(moves):\n",
    "    if moves[i] == \"L\":\n",
    "        i += 1 \n",
    "        L += 1\n",
    "    else:\n",
    "        i += 1\n",
    "if U == D and R == L:\n",
    "    print(\"true\")\n",
    "else: \n",
    "    print(\"false\")\n",
    "    "
   ]
  },
  {
   "cell_type": "code",
   "execution_count": null,
   "id": "e5c0b61b-02b8-41c5-a77c-c4245d23e926",
   "metadata": {},
   "outputs": [],
   "source": []
  },
  {
   "cell_type": "code",
   "execution_count": null,
   "id": "928aa802-76a8-417c-89f9-bacb5e438375",
   "metadata": {},
   "outputs": [],
   "source": []
  },
  {
   "cell_type": "code",
   "execution_count": null,
   "id": "f53855a0-af2f-4b62-9c8b-2d6b35685543",
   "metadata": {},
   "outputs": [],
   "source": []
  }
 ],
 "metadata": {
  "kernelspec": {
   "display_name": "Python 3 (ipykernel)",
   "language": "python",
   "name": "python3"
  },
  "language_info": {
   "codemirror_mode": {
    "name": "ipython",
    "version": 3
   },
   "file_extension": ".py",
   "mimetype": "text/x-python",
   "name": "python",
   "nbconvert_exporter": "python",
   "pygments_lexer": "ipython3",
   "version": "3.10.11"
  }
 },
 "nbformat": 4,
 "nbformat_minor": 5
}
